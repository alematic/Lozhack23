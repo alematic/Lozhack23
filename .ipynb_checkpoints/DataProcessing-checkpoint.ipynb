{
 "cells": [
  {
   "cell_type": "code",
   "execution_count": 1,
   "id": "e39b5297-2202-497e-8c50-e707218220b7",
   "metadata": {
    "tags": []
   },
   "outputs": [],
   "source": [
    "import pandas as pd\n",
    "import random\n",
    "random.seed(100)\n",
    "\n",
    "#tr_aff= pd.read_csv('data/Transporter-drug_affinity_data_based_on_cell_line_experiment.txt',sep='\\t')\n",
    "#end_metab=pd.read_csv('data/EMs_handled_by_DTs_identified_using_KO_mice_cell_lines_patient_clinical_data.txt',sep='\\t')\n",
    "#tr_nameid = pd.read_csv('data/Cross-matching_ID_between_the_DTs_and_a_variety_of_public_databases.txt',sep='\\t')\n",
    "\n",
    "smiles=pd.read_csv('data/SMILES_and_InChI_for_the_drugs_transported_by_DTs.txt',sep='\\t') #Useful -> SMILES of drugs\n",
    "matching= pd.read_csv('data/Synonyms_of_DTs_and_their_corresponding_drugs.txt', sep='\\t')#useful -> matching between transporter and drug"
   ]
  },
  {
   "cell_type": "code",
   "execution_count": 2,
   "id": "a592e95f-797d-46aa-9daf-1ce890f7468f",
   "metadata": {
    "tags": []
   },
   "outputs": [
    {
     "data": {
      "text/plain": [
       "'InChI=1S/C26H37NO3/c1-18(2)26(29)30-25-13-12-21(17-28)16-24(25)23(22-10-8-7-9-11-22)14-15-27(19(3)4)20(5)6/h7-13,16,18-20,23,28H,14-15,17H2,1-6H3/t23-/m1/s1'"
      ]
     },
     "metadata": {},
     "output_type": "display_data"
    }
   ],
   "source": [
    "display(smiles.iloc[0]['InChI'])"
   ]
  },
  {
   "cell_type": "code",
   "execution_count": 3,
   "id": "de12e343-522a-4d1d-8b93-96323d69fa7b",
   "metadata": {
    "tags": []
   },
   "outputs": [
    {
     "data": {
      "text/plain": [
       "(433, 7)"
      ]
     },
     "execution_count": 3,
     "metadata": {},
     "output_type": "execute_result"
    }
   ],
   "source": [
    "ABCB1= matching[matching['Gene_name']=='ABCB1']\n",
    "ABCB1.shape"
   ]
  },
  {
   "cell_type": "code",
   "execution_count": 4,
   "id": "cfd2a43e-0888-45ce-a5b1-f6c3f2eaa6ae",
   "metadata": {
    "tags": []
   },
   "outputs": [
    {
     "data": {
      "text/html": [
       "<div>\n",
       "<style scoped>\n",
       "    .dataframe tbody tr th:only-of-type {\n",
       "        vertical-align: middle;\n",
       "    }\n",
       "\n",
       "    .dataframe tbody tr th {\n",
       "        vertical-align: top;\n",
       "    }\n",
       "\n",
       "    .dataframe thead th {\n",
       "        text-align: right;\n",
       "    }\n",
       "</style>\n",
       "<table border=\"1\" class=\"dataframe\">\n",
       "  <thead>\n",
       "    <tr style=\"text-align: right;\">\n",
       "      <th></th>\n",
       "      <th>TransporterID</th>\n",
       "      <th>Gene_name</th>\n",
       "      <th>Protein_Name_generally</th>\n",
       "      <th>Synonyms</th>\n",
       "      <th>DrugID</th>\n",
       "      <th>Drug_Name</th>\n",
       "      <th>synonyms</th>\n",
       "      <th>Canonical_SMILES</th>\n",
       "    </tr>\n",
       "  </thead>\n",
       "  <tbody>\n",
       "    <tr>\n",
       "      <th>0</th>\n",
       "      <td>DTD0003</td>\n",
       "      <td>ABCB1</td>\n",
       "      <td>P-glycoprotein 1</td>\n",
       "      <td>ABC20; ABCB1; ATP-binding cassette sub-family ...</td>\n",
       "      <td>DR00001</td>\n",
       "      <td>Fesoterodine fumarate</td>\n",
       "      <td>Toviaz (TN)</td>\n",
       "      <td>CC(C)C(=O)OC1=C(C=C(C=C1)CO)C(CCN(C(C)C)C(C)C)...</td>\n",
       "    </tr>\n",
       "    <tr>\n",
       "      <th>1</th>\n",
       "      <td>DTD0003</td>\n",
       "      <td>ABCB1</td>\n",
       "      <td>P-glycoprotein 1</td>\n",
       "      <td>ABC20; ABCB1; ATP-binding cassette sub-family ...</td>\n",
       "      <td>DR00002</td>\n",
       "      <td>Paraquat</td>\n",
       "      <td>1,1'-dimethyl-4,4' bipyridinium dichloride</td>\n",
       "      <td>C[N+]1=CC=C(C=C1)C2=CC=[N+](C=C2)C.[Cl-].[Cl-]</td>\n",
       "    </tr>\n",
       "    <tr>\n",
       "      <th>2</th>\n",
       "      <td>DTD0003</td>\n",
       "      <td>ABCB1</td>\n",
       "      <td>P-glycoprotein 1</td>\n",
       "      <td>ABC20; ABCB1; ATP-binding cassette sub-family ...</td>\n",
       "      <td>DR00008</td>\n",
       "      <td>Venetoclax</td>\n",
       "      <td>Venclexta</td>\n",
       "      <td>CC1(CCC(=C(C1)C2=CC=C(C=C2)Cl)CN3CCN(CC3)C4=CC...</td>\n",
       "    </tr>\n",
       "  </tbody>\n",
       "</table>\n",
       "</div>"
      ],
      "text/plain": [
       "  TransporterID Gene_name Protein_Name_generally  \\\n",
       "0       DTD0003     ABCB1       P-glycoprotein 1   \n",
       "1       DTD0003     ABCB1       P-glycoprotein 1   \n",
       "2       DTD0003     ABCB1       P-glycoprotein 1   \n",
       "\n",
       "                                            Synonyms   DrugID  \\\n",
       "0  ABC20; ABCB1; ATP-binding cassette sub-family ...  DR00001   \n",
       "1  ABC20; ABCB1; ATP-binding cassette sub-family ...  DR00002   \n",
       "2  ABC20; ABCB1; ATP-binding cassette sub-family ...  DR00008   \n",
       "\n",
       "               Drug_Name                                    synonyms  \\\n",
       "0  Fesoterodine fumarate                                 Toviaz (TN)   \n",
       "1               Paraquat  1,1'-dimethyl-4,4' bipyridinium dichloride   \n",
       "2             Venetoclax                                   Venclexta   \n",
       "\n",
       "                                    Canonical_SMILES  \n",
       "0  CC(C)C(=O)OC1=C(C=C(C=C1)CO)C(CCN(C(C)C)C(C)C)...  \n",
       "1     C[N+]1=CC=C(C=C1)C2=CC=[N+](C=C2)C.[Cl-].[Cl-]  \n",
       "2  CC1(CCC(=C(C1)C2=CC=C(C=C2)Cl)CN3CCN(CC3)C4=CC...  "
      ]
     },
     "execution_count": 4,
     "metadata": {},
     "output_type": "execute_result"
    }
   ],
   "source": [
    "#Merge the SMILEs to ABCB1\n",
    "\n",
    "ABCB1=pd.merge(ABCB1,smiles[['Canonical_SMILES','DrugID']],on=\"DrugID\")\n",
    "ABCB1.head(3)"
   ]
  },
  {
   "cell_type": "code",
   "execution_count": 5,
   "id": "2c8bb6a0-44c0-44f5-8213-0824db0fde48",
   "metadata": {
    "tags": []
   },
   "outputs": [
    {
     "data": {
      "text/plain": [
       "74     False\n",
       "235    False\n",
       "232    False\n",
       "394    False\n",
       "89     False\n",
       "361    False\n",
       "201    False\n",
       "374    False\n",
       "179    False\n",
       "221    False\n",
       "Name: DrugID, dtype: bool"
      ]
     },
     "metadata": {},
     "output_type": "display_data"
    },
    {
     "data": {
      "text/html": [
       "<div>\n",
       "<style scoped>\n",
       "    .dataframe tbody tr th:only-of-type {\n",
       "        vertical-align: middle;\n",
       "    }\n",
       "\n",
       "    .dataframe tbody tr th {\n",
       "        vertical-align: top;\n",
       "    }\n",
       "\n",
       "    .dataframe thead th {\n",
       "        text-align: right;\n",
       "    }\n",
       "</style>\n",
       "<table border=\"1\" class=\"dataframe\">\n",
       "  <thead>\n",
       "    <tr style=\"text-align: right;\">\n",
       "      <th></th>\n",
       "      <th>DrugID</th>\n",
       "      <th>Drug_Name</th>\n",
       "      <th>Canonical_SMILES</th>\n",
       "      <th>Substrate</th>\n",
       "    </tr>\n",
       "  </thead>\n",
       "  <tbody>\n",
       "    <tr>\n",
       "      <th>74</th>\n",
       "      <td>DR00182</td>\n",
       "      <td>Dasatinib</td>\n",
       "      <td>CC1=C(C(=CC=C1)Cl)NC(=O)C2=CN=C(S2)NC3=NC(=NC(...</td>\n",
       "      <td>1</td>\n",
       "    </tr>\n",
       "    <tr>\n",
       "      <th>235</th>\n",
       "      <td>DR00668</td>\n",
       "      <td>Nisoldipine</td>\n",
       "      <td>CC1=C(C(C(=C(N1)C)C(=O)OCC(C)C)C2=CC=CC=C2[N+]...</td>\n",
       "      <td>1</td>\n",
       "    </tr>\n",
       "    <tr>\n",
       "      <th>232</th>\n",
       "      <td>DR00658</td>\n",
       "      <td>Fluphenazine</td>\n",
       "      <td>C1CN(CCN1CCCN2C3=CC=CC=C3SC4=C2C=C(C=C4)C(F)(F...</td>\n",
       "      <td>1</td>\n",
       "    </tr>\n",
       "  </tbody>\n",
       "</table>\n",
       "</div>"
      ],
      "text/plain": [
       "      DrugID     Drug_Name                                   Canonical_SMILES  \\\n",
       "74   DR00182     Dasatinib  CC1=C(C(=CC=C1)Cl)NC(=O)C2=CN=C(S2)NC3=NC(=NC(...   \n",
       "235  DR00668   Nisoldipine  CC1=C(C(C(=C(N1)C)C(=O)OCC(C)C)C2=CC=CC=C2[N+]...   \n",
       "232  DR00658  Fluphenazine  C1CN(CCN1CCCN2C3=CC=CC=C3SC4=C2C=C(C=C4)C(F)(F...   \n",
       "\n",
       "     Substrate  \n",
       "74           1  \n",
       "235          1  \n",
       "232          1  "
      ]
     },
     "execution_count": 5,
     "metadata": {},
     "output_type": "execute_result"
    }
   ],
   "source": [
    "#Create test dataframe: \n",
    "col_testdf=['DrugID', 'Drug_Name','Canonical_SMILES','Substrate'] #Substrate: 1 if is substrate, 0 if not\n",
    "\n",
    "idx_pos_test = random.sample(range(0, ABCB1.shape[0]),10)\n",
    "test_df = pd.DataFrame(data= ABCB1.iloc[idx_pos_test][col_testdf[0:3]],columns= col_testdf)\n",
    "test_df['Substrate']=1\n",
    "ABCB1 = ABCB1.drop(index=idx_pos_test)\n",
    "display(test_df['DrugID'].apply(lambda x:x in (ABCB1['DrugID']))) #Test molecule not in database anymore\n",
    "test_df.head(3)"
   ]
  },
  {
   "cell_type": "code",
   "execution_count": 6,
   "id": "4b34333f-2568-466f-9e60-5910223b7760",
   "metadata": {},
   "outputs": [],
   "source": [
    "#Get drugs that are supposedly not ABCB1 targets\n"
   ]
  },
  {
   "cell_type": "code",
   "execution_count": null,
   "id": "b1b5549b-763b-4df2-9a4a-7ed744495618",
   "metadata": {},
   "outputs": [],
   "source": []
  },
  {
   "cell_type": "code",
   "execution_count": 73,
   "id": "e689bbcc-e2bb-4cd3-a2e8-2d1daf55fb24",
   "metadata": {
    "tags": []
   },
   "outputs": [],
   "source": [
    "#Get good SMILEs from pubCHEM API\n",
    "import pubchempy as pcp\n",
    "name = smiles[smiles['DrugID']==\"DR00001\"]['Drug_Name'][0]\n",
    "c= pcp.get_compounds(name,'name')\n",
    "c=c[0]\n",
    "#gotsmile= requests.get(\"https://pubchem.ncbi.nlm.nih.gov/rest/pug/compound/inchi/\"+inchi+\"/property/smiles/JSON\")"
   ]
  },
  {
   "cell_type": "code",
   "execution_count": 74,
   "id": "ed1412b5-7703-4070-963b-67b0aef71a4f",
   "metadata": {
    "tags": []
   },
   "outputs": [
    {
     "data": {
      "text/plain": [
       "'CC(C)C(=O)OC1=C(C=C(C=C1)CO)C(CCN(C(C)C)C(C)C)C2=CC=CC=C2.C(=CC(=O)O)C(=O)O'"
      ]
     },
     "execution_count": 74,
     "metadata": {},
     "output_type": "execute_result"
    }
   ],
   "source": [
    "c=c.to_dict(properties=['inchi','canonical_smiles'])\n",
    "c['canonical_smiles']"
   ]
  },
  {
   "cell_type": "code",
   "execution_count": 93,
   "id": "91584bbf-c99a-42a1-87bd-3d60ac9515ca",
   "metadata": {
    "tags": []
   },
   "outputs": [
    {
     "name": "stdout",
     "output_type": "stream",
     "text": [
      "Problem drug Creatine ALS-08 has no answers\n",
      "Problem drug Zinc salts has no answers\n",
      "Problem drug Vasopressin has no answers\n",
      "Problem drug Arsenite has no answers\n",
      "Problem drug Epipodophyllotoxins has no answers\n",
      "Problem drug Carboxydichlorofluorescein has no answers\n",
      "Problem drug Beta-lactam antibiotics has no answers\n",
      "Problem drug Antiparasitics has no answers\n",
      "Problem drug Amino acids has no answers\n",
      "Problem drug Peptides has no answers\n",
      "Problem drug Sodium phosphate dibasic/Sodium phosphate monobasic has no answers\n",
      "Problem drug Polyamine has no answers\n",
      "Problem drug Monocarboxylic acids has no answers\n",
      "Problem drug Cation chloride has no answers\n",
      "Problem drug Flavonoids has no answers\n",
      "Problem drug 4-(2-Aminoethyl) benzenesulfonyl fluoride has no answers\n",
      "Problem drug (R)-Xamoterol has no answers\n",
      "Problem drug BMS-3870032 has no answers\n"
     ]
    }
   ],
   "source": [
    "#Retrieve good smiles from pubchem database from the name\n",
    "#Need to look for: is there only one chemical compound found with the name? Is there something found for it?\n",
    "new_smiles=[]\n",
    "multiple_ans=[]\n",
    "for name in smiles['Drug_Name']:\n",
    "    c=pcp.get_compounds(name,'name')\n",
    "    if len(c)==1:\n",
    "        multiple_ans.append(0)\n",
    "        c=c[0]\n",
    "        c=c.to_dict(properties=['canonical_smiles'])\n",
    "        new_smiles.append(c['canonical_smiles'])\n",
    "    elif len(c)>1:\n",
    "        multiple_ans.append(1)\n",
    "        n_s=[]\n",
    "        for comp in c:\n",
    "            comp=comp.to_dict(properties=['canonical_smiles'])\n",
    "            n_s.append(comp['canonical_smiles'])\n",
    "        new_smiles.append(n_s)\n",
    "    else:\n",
    "        print('Problem drug '+name+' has no answers')\n",
    "        multiple_ans.append('NaN')\n",
    "        new_smiles.append('NaN')\n",
    "\n",
    "    "
   ]
  },
  {
   "cell_type": "code",
   "execution_count": 108,
   "id": "46e3f0e4-347b-486e-9c17-2b5172688394",
   "metadata": {
    "tags": []
   },
   "outputs": [],
   "source": [
    "smiles.insert(smiles.shape[1],'new_smiles',new_smiles)\n",
    "smiles.insert(smiles.shape[1],'multiple_ans',multiple_ans)"
   ]
  },
  {
   "cell_type": "code",
   "execution_count": 114,
   "id": "984173d0-9b1c-40c3-8acd-8859f5384a6e",
   "metadata": {
    "tags": []
   },
   "outputs": [],
   "source": [
    "smiles.to_csv(\"data/smiles.txt\",)"
   ]
  }
 ],
 "metadata": {
  "kernelspec": {
   "display_name": "Python 3 (ipykernel)",
   "language": "python",
   "name": "python3"
  },
  "language_info": {
   "codemirror_mode": {
    "name": "ipython",
    "version": 3
   },
   "file_extension": ".py",
   "mimetype": "text/x-python",
   "name": "python",
   "nbconvert_exporter": "python",
   "pygments_lexer": "ipython3",
   "version": "3.11.4"
  }
 },
 "nbformat": 4,
 "nbformat_minor": 5
}
