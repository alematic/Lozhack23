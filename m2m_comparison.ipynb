{
 "cells": [
  {
   "cell_type": "code",
   "execution_count": 2,
   "metadata": {},
   "outputs": [
    {
     "name": "stdout",
     "output_type": "stream",
     "text": [
      "0.044444444444444446\n"
     ]
    }
   ],
   "source": [
    "#Reference Paper:\n",
    "'''\n",
    "[1]LINGO, an Efficient Holographic Text Based Method To Calculate Biophysical\n",
    "Properties and Intermolecular Similarities\n",
    "David Vidal, Michael Thormann ,and Miquel Pons\n",
    "Journal of Chemical infomation and modeling\n",
    "2005,45(2),pp 386-393\n",
    "http://pubs.acs.org/doi/abs/10.1021/ci0496797\n",
    "[2]Lingos, finite state machines, and fast similarity searching\n",
    "J. Andrew Grant, James A. Haigh, Barry T. Pickup et al.\n",
    "2006,46(5),pp 1912-1918\n",
    "http://pubs.acs.org/doi/abs/10.1021/ci6002152\n",
    "'''\n",
    "\n",
    "def similar(mols,q):\n",
    "    #get lingos:\n",
    "    'q: the length of the lingo'\n",
    "    lingos = []\n",
    "    for mol in mols:\n",
    "        n = len(mol)\n",
    "        for i in range(n-q+1):\n",
    "            if mol[i:i+q] in lingos:\n",
    "                continue\n",
    "            lingos.append(mol[i:i+q])\n",
    "    #calculate Tc\n",
    "    l = len(lingos)\n",
    "    numerator = 0\n",
    "    'cnumerator = 0 '\n",
    "    for lingo in lingos:\n",
    "        NA = sum([mols[0][i:i+q]==lingo for i in range(len(mols[0])-q+1)])\n",
    "        NB = sum([mols[1][i:i+q]==lingo for i in range(len(mols[1])-q+1)])\n",
    "        numerator += 1 - abs(NA-NB) / float(NA+NB)\n",
    "        'cnumerator += min(NA,NB)'\n",
    "    Tc = numerator / float(l) #Reference [1]\n",
    "    'Tab = float(cnumerator) / (len(mols[0])+len(mols[1]) - 2*q +2 -cnumerator)' #Reference[2]\n",
    "    return Tc #Or Tab\n",
    "\n",
    "\n",
    "#Test\n",
    "mols = ['CC(C)C=CCCCCC(=O)NCc1ccc(c(c1)OC)O','COC1=C(C=CC(=C1)C=O)O']\n",
    "\n",
    "print(similar(mols,4))"
   ]
  },
  {
   "cell_type": "code",
   "execution_count": null,
   "metadata": {},
   "outputs": [],
   "source": []
  },
  {
   "cell_type": "code",
   "execution_count": 27,
   "metadata": {},
   "outputs": [],
   "source": [
    "ABCB1['Canonical_SMILES'][0] = ABCB1['Canonical_SMILES'][0].replace('<br />','')\n"
   ]
  },
  {
   "cell_type": "code",
   "execution_count": 28,
   "metadata": {},
   "outputs": [
    {
     "name": "stdout",
     "output_type": "stream",
     "text": [
      "CC(C)C(=O)OC1=C(C=C(C=C1)CO)C(CCN(C(C)C)C(C)C)C2=CC=CC=C2\n"
     ]
    }
   ],
   "source": [
    "print(ABCB1['Canonical_SMILES'][0])\n",
    "\n"
   ]
  },
  {
   "cell_type": "code",
   "execution_count": 26,
   "metadata": {},
   "outputs": [
    {
     "data": {
      "text/html": [
       "<div>\n",
       "<style scoped>\n",
       "    .dataframe tbody tr th:only-of-type {\n",
       "        vertical-align: middle;\n",
       "    }\n",
       "\n",
       "    .dataframe tbody tr th {\n",
       "        vertical-align: top;\n",
       "    }\n",
       "\n",
       "    .dataframe thead th {\n",
       "        text-align: right;\n",
       "    }\n",
       "</style>\n",
       "<table border=\"1\" class=\"dataframe\">\n",
       "  <thead>\n",
       "    <tr style=\"text-align: right;\">\n",
       "      <th></th>\n",
       "      <th>TransporterID</th>\n",
       "      <th>Gene_name</th>\n",
       "      <th>Protein_Name_generally</th>\n",
       "      <th>Synonyms</th>\n",
       "      <th>DrugID</th>\n",
       "      <th>Drug_Name</th>\n",
       "      <th>synonyms</th>\n",
       "      <th>Canonical_SMILES</th>\n",
       "    </tr>\n",
       "  </thead>\n",
       "  <tbody>\n",
       "    <tr>\n",
       "      <th>0</th>\n",
       "      <td>DTD0003</td>\n",
       "      <td>ABCB1</td>\n",
       "      <td>P-glycoprotein 1</td>\n",
       "      <td>ABC20; ABCB1; ATP-binding cassette sub-family ...</td>\n",
       "      <td>DR00001</td>\n",
       "      <td>Fesoterodine fumarate</td>\n",
       "      <td>Toviaz (TN)</td>\n",
       "      <td>CC(C)C(=O)OC1=C(C=C(C=C1)CO)C(CCN(C(C)C)C(C)C)...</td>\n",
       "    </tr>\n",
       "    <tr>\n",
       "      <th>1</th>\n",
       "      <td>DTD0003</td>\n",
       "      <td>ABCB1</td>\n",
       "      <td>P-glycoprotein 1</td>\n",
       "      <td>ABC20; ABCB1; ATP-binding cassette sub-family ...</td>\n",
       "      <td>DR00002</td>\n",
       "      <td>Paraquat</td>\n",
       "      <td>1,1'-dimethyl-4,4' bipyridinium dichloride</td>\n",
       "      <td>C[N+]1=CC=C(C=C1)C2=CC=[N+](C=C2)C.[Cl-].[Cl-]</td>\n",
       "    </tr>\n",
       "    <tr>\n",
       "      <th>2</th>\n",
       "      <td>DTD0003</td>\n",
       "      <td>ABCB1</td>\n",
       "      <td>P-glycoprotein 1</td>\n",
       "      <td>ABC20; ABCB1; ATP-binding cassette sub-family ...</td>\n",
       "      <td>DR00008</td>\n",
       "      <td>Venetoclax</td>\n",
       "      <td>Venclexta</td>\n",
       "      <td>CC1(CCC(=C(C1)C2=CC=C(C=C2)Cl)CN3CCN(CC3)C4=CC...</td>\n",
       "    </tr>\n",
       "    <tr>\n",
       "      <th>3</th>\n",
       "      <td>DTD0003</td>\n",
       "      <td>ABCB1</td>\n",
       "      <td>P-glycoprotein 1</td>\n",
       "      <td>ABC20; ABCB1; ATP-binding cassette sub-family ...</td>\n",
       "      <td>DR00013</td>\n",
       "      <td>Nilotinib</td>\n",
       "      <td>Nilotinib; Tasigna; AMN107; AMN 107; AMN-107; ...</td>\n",
       "      <td>CC1=C(C=C(C=C1)C(=O)NC2=CC(=CC(=C2)C(F)(F)F)N3...</td>\n",
       "    </tr>\n",
       "    <tr>\n",
       "      <th>4</th>\n",
       "      <td>DTD0003</td>\n",
       "      <td>ABCB1</td>\n",
       "      <td>P-glycoprotein 1</td>\n",
       "      <td>ABC20; ABCB1; ATP-binding cassette sub-family ...</td>\n",
       "      <td>DR00014</td>\n",
       "      <td>Simeprevir</td>\n",
       "      <td>TMC436</td>\n",
       "      <td>CC1=C(C=CC2=C1N=C(C=C2OC3CC4C(C3)C(=O)N(CCCCC=...</td>\n",
       "    </tr>\n",
       "  </tbody>\n",
       "</table>\n",
       "</div>"
      ],
      "text/plain": [
       "  TransporterID Gene_name Protein_Name_generally  \\\n",
       "0       DTD0003     ABCB1       P-glycoprotein 1   \n",
       "1       DTD0003     ABCB1       P-glycoprotein 1   \n",
       "2       DTD0003     ABCB1       P-glycoprotein 1   \n",
       "3       DTD0003     ABCB1       P-glycoprotein 1   \n",
       "4       DTD0003     ABCB1       P-glycoprotein 1   \n",
       "\n",
       "                                            Synonyms   DrugID  \\\n",
       "0  ABC20; ABCB1; ATP-binding cassette sub-family ...  DR00001   \n",
       "1  ABC20; ABCB1; ATP-binding cassette sub-family ...  DR00002   \n",
       "2  ABC20; ABCB1; ATP-binding cassette sub-family ...  DR00008   \n",
       "3  ABC20; ABCB1; ATP-binding cassette sub-family ...  DR00013   \n",
       "4  ABC20; ABCB1; ATP-binding cassette sub-family ...  DR00014   \n",
       "\n",
       "               Drug_Name                                           synonyms  \\\n",
       "0  Fesoterodine fumarate                                        Toviaz (TN)   \n",
       "1               Paraquat         1,1'-dimethyl-4,4' bipyridinium dichloride   \n",
       "2             Venetoclax                                          Venclexta   \n",
       "3              Nilotinib  Nilotinib; Tasigna; AMN107; AMN 107; AMN-107; ...   \n",
       "4             Simeprevir                                             TMC436   \n",
       "\n",
       "                                    Canonical_SMILES  \n",
       "0  CC(C)C(=O)OC1=C(C=C(C=C1)CO)C(CCN(C(C)C)C(C)C)...  \n",
       "1     C[N+]1=CC=C(C=C1)C2=CC=[N+](C=C2)C.[Cl-].[Cl-]  \n",
       "2  CC1(CCC(=C(C1)C2=CC=C(C=C2)Cl)CN3CCN(CC3)C4=CC...  \n",
       "3  CC1=C(C=C(C=C1)C(=O)NC2=CC(=CC(=C2)C(F)(F)F)N3...  \n",
       "4  CC1=C(C=CC2=C1N=C(C=C2OC3CC4C(C3)C(=O)N(CCCCC=...  "
      ]
     },
     "execution_count": 26,
     "metadata": {},
     "output_type": "execute_result"
    }
   ],
   "source": [
    "import pandas as pd\n",
    "\n",
    "#read data from csv as 'molList'\n",
    "ABCB1 = pd.read_csv('data/ABCB1.csv',index_col=0)\n",
    "ABCB1.head()\n",
    "\n"
   ]
  },
  {
   "cell_type": "code",
   "execution_count": 50,
   "metadata": {},
   "outputs": [
    {
     "name": "stdout",
     "output_type": "stream",
     "text": [
      "433 2\n"
     ]
    }
   ],
   "source": [
    "import numpy as np\n",
    "molX = 'CCCCCC(C=CC1C(CC(=O)C1CC=CCCCC(=O)O)O)O'\n",
    "\n",
    "#create 2D array to store the similarity score and drug id of each pair\n",
    "# Define the shape of the empty array (rows x columns)\n",
    "rows = len(ABCB1)\n",
    "columns = 2\n",
    "\n",
    "# Create an empty 2D NumPy array filled with zeros\n",
    "results = np.zeros((rows, columns))\n",
    "\n"
   ]
  },
  {
   "cell_type": "code",
   "execution_count": 54,
   "metadata": {},
   "outputs": [
    {
     "data": {
      "text/plain": [
       "{0.12280701754385967, 'DR00001'}"
      ]
     },
     "metadata": {},
     "output_type": "display_data"
    }
   ],
   "source": []
  },
  {
   "cell_type": "code",
   "execution_count": 53,
   "metadata": {},
   "outputs": [
    {
     "ename": "KeyError",
     "evalue": "'CC(C)C(=O)OC1=C(C=C(C=C1)CO)C(CCN(C(C)C)C(C)C)C2=CC=CC=C2'",
     "output_type": "error",
     "traceback": [
      "\u001b[1;31m---------------------------------------------------------------------------\u001b[0m",
      "\u001b[1;31mKeyError\u001b[0m                                  Traceback (most recent call last)",
      "File \u001b[1;32mc:\\Users\\morri\\anaconda3\\envs\\hackathon\\Lib\\site-packages\\pandas\\core\\indexes\\base.py:3790\u001b[0m, in \u001b[0;36mIndex.get_loc\u001b[1;34m(self, key)\u001b[0m\n\u001b[0;32m   3789\u001b[0m \u001b[39mtry\u001b[39;00m:\n\u001b[1;32m-> 3790\u001b[0m     \u001b[39mreturn\u001b[39;00m \u001b[39mself\u001b[39;49m\u001b[39m.\u001b[39;49m_engine\u001b[39m.\u001b[39;49mget_loc(casted_key)\n\u001b[0;32m   3791\u001b[0m \u001b[39mexcept\u001b[39;00m \u001b[39mKeyError\u001b[39;00m \u001b[39mas\u001b[39;00m err:\n",
      "File \u001b[1;32mindex.pyx:152\u001b[0m, in \u001b[0;36mpandas._libs.index.IndexEngine.get_loc\u001b[1;34m()\u001b[0m\n",
      "File \u001b[1;32mindex.pyx:160\u001b[0m, in \u001b[0;36mpandas._libs.index.IndexEngine.get_loc\u001b[1;34m()\u001b[0m\n",
      "File \u001b[1;32mpandas\\_libs\\index_class_helper.pxi:70\u001b[0m, in \u001b[0;36mpandas._libs.index.Int64Engine._check_type\u001b[1;34m()\u001b[0m\n",
      "\u001b[1;31mKeyError\u001b[0m: 'CC(C)C(=O)OC1=C(C=C(C=C1)CO)C(CCN(C(C)C)C(C)C)C2=CC=CC=C2'",
      "\nThe above exception was the direct cause of the following exception:\n",
      "\u001b[1;31mKeyError\u001b[0m                                  Traceback (most recent call last)",
      "\u001b[1;32mc:\\Users\\morri\\git\\Lozhack23\\m2m_comparison.ipynb Cell 7\u001b[0m line \u001b[0;36m3\n\u001b[0;32m      <a href='vscode-notebook-cell:/c%3A/Users/morri/git/Lozhack23/m2m_comparison.ipynb#W3sZmlsZQ%3D%3D?line=0'>1</a>\u001b[0m \u001b[39m#create for loop to calculate the similarity between molX and each mol in ABCB1 and store the results in the array 'results'\u001b[39;00m\n\u001b[0;32m      <a href='vscode-notebook-cell:/c%3A/Users/morri/git/Lozhack23/m2m_comparison.ipynb#W3sZmlsZQ%3D%3D?line=1'>2</a>\u001b[0m \u001b[39mfor\u001b[39;00m i \u001b[39min\u001b[39;00m ABCB1[\u001b[39m'\u001b[39m\u001b[39mCanonical_SMILES\u001b[39m\u001b[39m'\u001b[39m]:\n\u001b[1;32m----> <a href='vscode-notebook-cell:/c%3A/Users/morri/git/Lozhack23/m2m_comparison.ipynb#W3sZmlsZQ%3D%3D?line=2'>3</a>\u001b[0m     results[i,\u001b[39m0\u001b[39m] \u001b[39m=\u001b[39m similar([molX,ABCB1[\u001b[39m'\u001b[39;49m\u001b[39mCanonical_SMILES\u001b[39;49m\u001b[39m'\u001b[39;49m][i]],\u001b[39m4\u001b[39m)\n\u001b[0;32m      <a href='vscode-notebook-cell:/c%3A/Users/morri/git/Lozhack23/m2m_comparison.ipynb#W3sZmlsZQ%3D%3D?line=3'>4</a>\u001b[0m     results[i,\u001b[39m1\u001b[39m] \u001b[39m=\u001b[39m ABCB1[\u001b[39m'\u001b[39m\u001b[39mDrug_ID\u001b[39m\u001b[39m'\u001b[39m][i]\n\u001b[0;32m     <a href='vscode-notebook-cell:/c%3A/Users/morri/git/Lozhack23/m2m_comparison.ipynb#W3sZmlsZQ%3D%3D?line=9'>10</a>\u001b[0m \u001b[39m#results.head()\u001b[39;00m\n",
      "File \u001b[1;32mc:\\Users\\morri\\anaconda3\\envs\\hackathon\\Lib\\site-packages\\pandas\\core\\series.py:1040\u001b[0m, in \u001b[0;36mSeries.__getitem__\u001b[1;34m(self, key)\u001b[0m\n\u001b[0;32m   1037\u001b[0m     \u001b[39mreturn\u001b[39;00m \u001b[39mself\u001b[39m\u001b[39m.\u001b[39m_values[key]\n\u001b[0;32m   1039\u001b[0m \u001b[39melif\u001b[39;00m key_is_scalar:\n\u001b[1;32m-> 1040\u001b[0m     \u001b[39mreturn\u001b[39;00m \u001b[39mself\u001b[39;49m\u001b[39m.\u001b[39;49m_get_value(key)\n\u001b[0;32m   1042\u001b[0m \u001b[39m# Convert generator to list before going through hashable part\u001b[39;00m\n\u001b[0;32m   1043\u001b[0m \u001b[39m# (We will iterate through the generator there to check for slices)\u001b[39;00m\n\u001b[0;32m   1044\u001b[0m \u001b[39mif\u001b[39;00m is_iterator(key):\n",
      "File \u001b[1;32mc:\\Users\\morri\\anaconda3\\envs\\hackathon\\Lib\\site-packages\\pandas\\core\\series.py:1156\u001b[0m, in \u001b[0;36mSeries._get_value\u001b[1;34m(self, label, takeable)\u001b[0m\n\u001b[0;32m   1153\u001b[0m     \u001b[39mreturn\u001b[39;00m \u001b[39mself\u001b[39m\u001b[39m.\u001b[39m_values[label]\n\u001b[0;32m   1155\u001b[0m \u001b[39m# Similar to Index.get_value, but we do not fall back to positional\u001b[39;00m\n\u001b[1;32m-> 1156\u001b[0m loc \u001b[39m=\u001b[39m \u001b[39mself\u001b[39;49m\u001b[39m.\u001b[39;49mindex\u001b[39m.\u001b[39;49mget_loc(label)\n\u001b[0;32m   1158\u001b[0m \u001b[39mif\u001b[39;00m is_integer(loc):\n\u001b[0;32m   1159\u001b[0m     \u001b[39mreturn\u001b[39;00m \u001b[39mself\u001b[39m\u001b[39m.\u001b[39m_values[loc]\n",
      "File \u001b[1;32mc:\\Users\\morri\\anaconda3\\envs\\hackathon\\Lib\\site-packages\\pandas\\core\\indexes\\base.py:3797\u001b[0m, in \u001b[0;36mIndex.get_loc\u001b[1;34m(self, key)\u001b[0m\n\u001b[0;32m   3792\u001b[0m     \u001b[39mif\u001b[39;00m \u001b[39misinstance\u001b[39m(casted_key, \u001b[39mslice\u001b[39m) \u001b[39mor\u001b[39;00m (\n\u001b[0;32m   3793\u001b[0m         \u001b[39misinstance\u001b[39m(casted_key, abc\u001b[39m.\u001b[39mIterable)\n\u001b[0;32m   3794\u001b[0m         \u001b[39mand\u001b[39;00m \u001b[39many\u001b[39m(\u001b[39misinstance\u001b[39m(x, \u001b[39mslice\u001b[39m) \u001b[39mfor\u001b[39;00m x \u001b[39min\u001b[39;00m casted_key)\n\u001b[0;32m   3795\u001b[0m     ):\n\u001b[0;32m   3796\u001b[0m         \u001b[39mraise\u001b[39;00m InvalidIndexError(key)\n\u001b[1;32m-> 3797\u001b[0m     \u001b[39mraise\u001b[39;00m \u001b[39mKeyError\u001b[39;00m(key) \u001b[39mfrom\u001b[39;00m \u001b[39merr\u001b[39;00m\n\u001b[0;32m   3798\u001b[0m \u001b[39mexcept\u001b[39;00m \u001b[39mTypeError\u001b[39;00m:\n\u001b[0;32m   3799\u001b[0m     \u001b[39m# If we have a listlike key, _check_indexing_error will raise\u001b[39;00m\n\u001b[0;32m   3800\u001b[0m     \u001b[39m#  InvalidIndexError. Otherwise we fall through and re-raise\u001b[39;00m\n\u001b[0;32m   3801\u001b[0m     \u001b[39m#  the TypeError.\u001b[39;00m\n\u001b[0;32m   3802\u001b[0m     \u001b[39mself\u001b[39m\u001b[39m.\u001b[39m_check_indexing_error(key)\n",
      "\u001b[1;31mKeyError\u001b[0m: 'CC(C)C(=O)OC1=C(C=C(C=C1)CO)C(CCN(C(C)C)C(C)C)C2=CC=CC=C2'"
     ]
    }
   ],
   "source": [
    "#create for loop to calculate the similarity between molX and each mol in ABCB1 and store the results in the array 'results'\n",
    "for i in ABCB1['Canonical_SMILES']:\n",
    "    results[i,0] = similar([molX,ABCB1['Canonical_SMILES'][i]],4)\n",
    "    results[i,1] = ABCB1['Drug_ID'][i]\n",
    "\n",
    "\n",
    "\n",
    "\n",
    "\n",
    "#results.head()\n",
    "display(results)"
   ]
  },
  {
   "cell_type": "code",
   "execution_count": 44,
   "metadata": {},
   "outputs": [
    {
     "data": {
      "text/plain": [
       "{0.12280701754385967, 'DR00001'}"
      ]
     },
     "metadata": {},
     "output_type": "display_data"
    }
   ],
   "source": [
    "ABCB1['Canonical_SMILES'][0]\n",
    "#save the similarity results versis DrugID to data frame 'results'\n",
    "score = similar([molX,ABCB1['Canonical_SMILES'][0]],4)\n",
    "\n",
    "results = {ABCB1['DrugID'][0],score}\n",
    "display(results)"
   ]
  }
 ],
 "metadata": {
  "kernelspec": {
   "display_name": "hackathon",
   "language": "python",
   "name": "python3"
  },
  "language_info": {
   "codemirror_mode": {
    "name": "ipython",
    "version": 3
   },
   "file_extension": ".py",
   "mimetype": "text/x-python",
   "name": "python",
   "nbconvert_exporter": "python",
   "pygments_lexer": "ipython3",
   "version": "3.12.0"
  }
 },
 "nbformat": 4,
 "nbformat_minor": 2
}
