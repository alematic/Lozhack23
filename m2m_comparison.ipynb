{
 "cells": [
  {
   "cell_type": "code",
   "execution_count": 1,
   "metadata": {},
   "outputs": [
    {
     "name": "stdout",
     "output_type": "stream",
     "text": [
      "0.044444444444444446\n"
     ]
    }
   ],
   "source": [
    "#Reference Paper:\n",
    "'''\n",
    "[1]LINGO, an Efficient Holographic Text Based Method To Calculate Biophysical\n",
    "Properties and Intermolecular Similarities\n",
    "David Vidal, Michael Thormann ,and Miquel Pons\n",
    "Journal of Chemical infomation and modeling\n",
    "2005,45(2),pp 386-393\n",
    "http://pubs.acs.org/doi/abs/10.1021/ci0496797\n",
    "[2]Lingos, finite state machines, and fast similarity searching\n",
    "J. Andrew Grant, James A. Haigh, Barry T. Pickup et al.\n",
    "2006,46(5),pp 1912-1918\n",
    "http://pubs.acs.org/doi/abs/10.1021/ci6002152\n",
    "'''\n",
    "\n",
    "def similar(mols,q):\n",
    "    #get lingos:\n",
    "    'q: the length of the lingo'\n",
    "    lingos = []\n",
    "    for mol in mols:\n",
    "        n = len(mol)\n",
    "        for i in range(n-q+1):\n",
    "            if mol[i:i+q] in lingos:\n",
    "                continue\n",
    "            lingos.append(mol[i:i+q])\n",
    "    #calculate Tc\n",
    "    l = len(lingos)\n",
    "    numerator = 0\n",
    "    'cnumerator = 0 '\n",
    "    for lingo in lingos:\n",
    "        NA = sum([mols[0][i:i+q]==lingo for i in range(len(mols[0])-q+1)])\n",
    "        NB = sum([mols[1][i:i+q]==lingo for i in range(len(mols[1])-q+1)])\n",
    "        numerator += 1 - abs(NA-NB) / float(NA+NB)\n",
    "        'cnumerator += min(NA,NB)'\n",
    "    Tc = numerator / float(l) #Reference [1]\n",
    "    'Tab = float(cnumerator) / (len(mols[0])+len(mols[1]) - 2*q +2 -cnumerator)' #Reference[2]\n",
    "    return Tc #Or Tab\n",
    "\n",
    "\n",
    "#Test\n",
    "mols = ['CC(C)C=CCCCCC(=O)NCc1ccc(c(c1)OC)O','COC1=C(C=CC(=C1)C=O)O']\n",
    "\n",
    "print(similar(mols,4))"
   ]
  },
  {
   "cell_type": "code",
   "execution_count": 3,
   "metadata": {},
   "outputs": [],
   "source": [
    "ABCB1['Canonical_SMILES'][0] = ABCB1['Canonical_SMILES'][0].replace('<br />','')\n"
   ]
  },
  {
   "cell_type": "code",
   "execution_count": 4,
   "metadata": {},
   "outputs": [
    {
     "name": "stdout",
     "output_type": "stream",
     "text": [
      "CC(C)C(=O)OC1=C(C=C(C=C1)CO)C(CCN(C(C)C)C(C)C)C2=CC=CC=C2\n"
     ]
    }
   ],
   "source": [
    "print(ABCB1['Canonical_SMILES'][0])\n",
    "\n"
   ]
  },
  {
   "cell_type": "code",
   "execution_count": 24,
   "metadata": {},
   "outputs": [
    {
     "data": {
      "text/html": [
       "<div>\n",
       "<style scoped>\n",
       "    .dataframe tbody tr th:only-of-type {\n",
       "        vertical-align: middle;\n",
       "    }\n",
       "\n",
       "    .dataframe tbody tr th {\n",
       "        vertical-align: top;\n",
       "    }\n",
       "\n",
       "    .dataframe thead th {\n",
       "        text-align: right;\n",
       "    }\n",
       "</style>\n",
       "<table border=\"1\" class=\"dataframe\">\n",
       "  <thead>\n",
       "    <tr style=\"text-align: right;\">\n",
       "      <th></th>\n",
       "      <th>TransporterID</th>\n",
       "      <th>Gene_name</th>\n",
       "      <th>Protein_Name_generally</th>\n",
       "      <th>Synonyms</th>\n",
       "      <th>DrugID</th>\n",
       "      <th>Drug_Name</th>\n",
       "      <th>synonyms</th>\n",
       "      <th>Canonical_SMILES</th>\n",
       "    </tr>\n",
       "  </thead>\n",
       "  <tbody>\n",
       "    <tr>\n",
       "      <th>0</th>\n",
       "      <td>DTD0003</td>\n",
       "      <td>ABCB1</td>\n",
       "      <td>P-glycoprotein 1</td>\n",
       "      <td>ABC20; ABCB1; ATP-binding cassette sub-family ...</td>\n",
       "      <td>DR00001</td>\n",
       "      <td>Fesoterodine fumarate</td>\n",
       "      <td>Toviaz (TN)</td>\n",
       "      <td>CC(C)C(=O)OC1=C(C=C(C=C1)CO)C(CCN(C(C)C)C(C)C)...</td>\n",
       "    </tr>\n",
       "    <tr>\n",
       "      <th>1</th>\n",
       "      <td>DTD0003</td>\n",
       "      <td>ABCB1</td>\n",
       "      <td>P-glycoprotein 1</td>\n",
       "      <td>ABC20; ABCB1; ATP-binding cassette sub-family ...</td>\n",
       "      <td>DR00002</td>\n",
       "      <td>Paraquat</td>\n",
       "      <td>1,1'-dimethyl-4,4' bipyridinium dichloride</td>\n",
       "      <td>C[N+]1=CC=C(C=C1)C2=CC=[N+](C=C2)C.[Cl-].[Cl-]</td>\n",
       "    </tr>\n",
       "    <tr>\n",
       "      <th>2</th>\n",
       "      <td>DTD0003</td>\n",
       "      <td>ABCB1</td>\n",
       "      <td>P-glycoprotein 1</td>\n",
       "      <td>ABC20; ABCB1; ATP-binding cassette sub-family ...</td>\n",
       "      <td>DR00008</td>\n",
       "      <td>Venetoclax</td>\n",
       "      <td>Venclexta</td>\n",
       "      <td>CC1(CCC(=C(C1)C2=CC=C(C=C2)Cl)CN3CCN(CC3)C4=CC...</td>\n",
       "    </tr>\n",
       "    <tr>\n",
       "      <th>3</th>\n",
       "      <td>DTD0003</td>\n",
       "      <td>ABCB1</td>\n",
       "      <td>P-glycoprotein 1</td>\n",
       "      <td>ABC20; ABCB1; ATP-binding cassette sub-family ...</td>\n",
       "      <td>DR00013</td>\n",
       "      <td>Nilotinib</td>\n",
       "      <td>Nilotinib; Tasigna; AMN107; AMN 107; AMN-107; ...</td>\n",
       "      <td>CC1=C(C=C(C=C1)C(=O)NC2=CC(=CC(=C2)C(F)(F)F)N3...</td>\n",
       "    </tr>\n",
       "    <tr>\n",
       "      <th>4</th>\n",
       "      <td>DTD0003</td>\n",
       "      <td>ABCB1</td>\n",
       "      <td>P-glycoprotein 1</td>\n",
       "      <td>ABC20; ABCB1; ATP-binding cassette sub-family ...</td>\n",
       "      <td>DR00014</td>\n",
       "      <td>Simeprevir</td>\n",
       "      <td>TMC436</td>\n",
       "      <td>CC1=C(C=CC2=C1N=C(C=C2OC3CC4C(C3)C(=O)N(CCCCC=...</td>\n",
       "    </tr>\n",
       "  </tbody>\n",
       "</table>\n",
       "</div>"
      ],
      "text/plain": [
       "  TransporterID Gene_name Protein_Name_generally  \\\n",
       "0       DTD0003     ABCB1       P-glycoprotein 1   \n",
       "1       DTD0003     ABCB1       P-glycoprotein 1   \n",
       "2       DTD0003     ABCB1       P-glycoprotein 1   \n",
       "3       DTD0003     ABCB1       P-glycoprotein 1   \n",
       "4       DTD0003     ABCB1       P-glycoprotein 1   \n",
       "\n",
       "                                            Synonyms   DrugID  \\\n",
       "0  ABC20; ABCB1; ATP-binding cassette sub-family ...  DR00001   \n",
       "1  ABC20; ABCB1; ATP-binding cassette sub-family ...  DR00002   \n",
       "2  ABC20; ABCB1; ATP-binding cassette sub-family ...  DR00008   \n",
       "3  ABC20; ABCB1; ATP-binding cassette sub-family ...  DR00013   \n",
       "4  ABC20; ABCB1; ATP-binding cassette sub-family ...  DR00014   \n",
       "\n",
       "               Drug_Name                                           synonyms  \\\n",
       "0  Fesoterodine fumarate                                        Toviaz (TN)   \n",
       "1               Paraquat         1,1'-dimethyl-4,4' bipyridinium dichloride   \n",
       "2             Venetoclax                                          Venclexta   \n",
       "3              Nilotinib  Nilotinib; Tasigna; AMN107; AMN 107; AMN-107; ...   \n",
       "4             Simeprevir                                             TMC436   \n",
       "\n",
       "                                    Canonical_SMILES  \n",
       "0  CC(C)C(=O)OC1=C(C=C(C=C1)CO)C(CCN(C(C)C)C(C)C)...  \n",
       "1     C[N+]1=CC=C(C=C1)C2=CC=[N+](C=C2)C.[Cl-].[Cl-]  \n",
       "2  CC1(CCC(=C(C1)C2=CC=C(C=C2)Cl)CN3CCN(CC3)C4=CC...  \n",
       "3  CC1=C(C=C(C=C1)C(=O)NC2=CC(=CC(=C2)C(F)(F)F)N3...  \n",
       "4  CC1=C(C=CC2=C1N=C(C=C2OC3CC4C(C3)C(=O)N(CCCCC=...  "
      ]
     },
     "execution_count": 24,
     "metadata": {},
     "output_type": "execute_result"
    }
   ],
   "source": [
    "import pandas as pd\n",
    "\n",
    "#read data from csv as 'molList'\n",
    "molList = pd.read_csv('data/ABCB1.csv',index_col=0)\n",
    "molList.head()\n",
    "\n"
   ]
  },
  {
   "cell_type": "code",
   "execution_count": 36,
   "metadata": {},
   "outputs": [],
   "source": [
    "results = pd.DataFrame(columns=['Drug', 'Score','GeneName'])"
   ]
  },
  {
   "cell_type": "code",
   "execution_count": 37,
   "metadata": {},
   "outputs": [
    {
     "data": {
      "text/html": [
       "<div>\n",
       "<style scoped>\n",
       "    .dataframe tbody tr th:only-of-type {\n",
       "        vertical-align: middle;\n",
       "    }\n",
       "\n",
       "    .dataframe tbody tr th {\n",
       "        vertical-align: top;\n",
       "    }\n",
       "\n",
       "    .dataframe thead th {\n",
       "        text-align: right;\n",
       "    }\n",
       "</style>\n",
       "<table border=\"1\" class=\"dataframe\">\n",
       "  <thead>\n",
       "    <tr style=\"text-align: right;\">\n",
       "      <th></th>\n",
       "      <th>Drug</th>\n",
       "      <th>Score</th>\n",
       "      <th>GeneName</th>\n",
       "    </tr>\n",
       "  </thead>\n",
       "  <tbody>\n",
       "    <tr>\n",
       "      <th>0</th>\n",
       "      <td>Fesoterodine fumarate</td>\n",
       "      <td>0.114583</td>\n",
       "      <td>ABCB1</td>\n",
       "    </tr>\n",
       "    <tr>\n",
       "      <th>1</th>\n",
       "      <td>Paraquat</td>\n",
       "      <td>0.045198</td>\n",
       "      <td>ABCB1</td>\n",
       "    </tr>\n",
       "    <tr>\n",
       "      <th>2</th>\n",
       "      <td>Venetoclax</td>\n",
       "      <td>0.046032</td>\n",
       "      <td>ABCB1</td>\n",
       "    </tr>\n",
       "    <tr>\n",
       "      <th>3</th>\n",
       "      <td>Nilotinib</td>\n",
       "      <td>0.058333</td>\n",
       "      <td>ABCB1</td>\n",
       "    </tr>\n",
       "    <tr>\n",
       "      <th>4</th>\n",
       "      <td>Simeprevir</td>\n",
       "      <td>0.060564</td>\n",
       "      <td>ABCB1</td>\n",
       "    </tr>\n",
       "    <tr>\n",
       "      <th>...</th>\n",
       "      <td>...</td>\n",
       "      <td>...</td>\n",
       "      <td>...</td>\n",
       "    </tr>\n",
       "    <tr>\n",
       "      <th>428</th>\n",
       "      <td>Tenofovir disoproxil</td>\n",
       "      <td>0.051741</td>\n",
       "      <td>ABCB1</td>\n",
       "    </tr>\n",
       "    <tr>\n",
       "      <th>429</th>\n",
       "      <td>S-licarbazepine</td>\n",
       "      <td>0.100709</td>\n",
       "      <td>ABCB1</td>\n",
       "    </tr>\n",
       "    <tr>\n",
       "      <th>430</th>\n",
       "      <td>Saphris</td>\n",
       "      <td>0.126984</td>\n",
       "      <td>ABCB1</td>\n",
       "    </tr>\n",
       "    <tr>\n",
       "      <th>431</th>\n",
       "      <td>BMS-3870032</td>\n",
       "      <td>0.054645</td>\n",
       "      <td>ABCB1</td>\n",
       "    </tr>\n",
       "    <tr>\n",
       "      <th>432</th>\n",
       "      <td>Gepirone</td>\n",
       "      <td>0.112994</td>\n",
       "      <td>ABCB1</td>\n",
       "    </tr>\n",
       "  </tbody>\n",
       "</table>\n",
       "<p>433 rows × 3 columns</p>\n",
       "</div>"
      ],
      "text/plain": [
       "                      Drug     Score GeneName\n",
       "0    Fesoterodine fumarate  0.114583    ABCB1\n",
       "1                 Paraquat  0.045198    ABCB1\n",
       "2               Venetoclax  0.046032    ABCB1\n",
       "3                Nilotinib  0.058333    ABCB1\n",
       "4               Simeprevir  0.060564    ABCB1\n",
       "..                     ...       ...      ...\n",
       "428   Tenofovir disoproxil  0.051741    ABCB1\n",
       "429        S-licarbazepine  0.100709    ABCB1\n",
       "430                Saphris  0.126984    ABCB1\n",
       "431            BMS-3870032  0.054645    ABCB1\n",
       "432               Gepirone  0.112994    ABCB1\n",
       "\n",
       "[433 rows x 3 columns]"
      ]
     },
     "metadata": {},
     "output_type": "display_data"
    }
   ],
   "source": [
    "#create for loop to calculate the similarity between molX and each mol in ABCB1 and store the results in the array 'results'\n",
    "molX = 'CCCCCC(C=CC1C(CC(=O)C1CC=CCCCC(=O)O)O)O'\n",
    "for i in range(0,len(molList['Canonical_SMILES'])):\n",
    "    results.loc[i] = [molList['Drug_Name'][i], similar([molX,molList['Canonical_SMILES'][i]],4),molList['Gene_name'][i]] \n",
    "\n",
    "\n",
    "#results.head()\n",
    "display(results)"
   ]
  },
  {
   "cell_type": "code",
   "execution_count": 38,
   "metadata": {},
   "outputs": [
    {
     "data": {
      "text/plain": [
       "1"
      ]
     },
     "metadata": {},
     "output_type": "display_data"
    },
    {
     "data": {
      "text/html": [
       "<div>\n",
       "<style scoped>\n",
       "    .dataframe tbody tr th:only-of-type {\n",
       "        vertical-align: middle;\n",
       "    }\n",
       "\n",
       "    .dataframe tbody tr th {\n",
       "        vertical-align: top;\n",
       "    }\n",
       "\n",
       "    .dataframe thead th {\n",
       "        text-align: right;\n",
       "    }\n",
       "</style>\n",
       "<table border=\"1\" class=\"dataframe\">\n",
       "  <thead>\n",
       "    <tr style=\"text-align: right;\">\n",
       "      <th></th>\n",
       "      <th>Drug</th>\n",
       "      <th>Score</th>\n",
       "      <th>GeneName</th>\n",
       "      <th>Similarity</th>\n",
       "    </tr>\n",
       "  </thead>\n",
       "  <tbody>\n",
       "    <tr>\n",
       "      <th>348</th>\n",
       "      <td>Prostaglandin A2</td>\n",
       "      <td>0.719048</td>\n",
       "      <td>ABCB1</td>\n",
       "      <td>1</td>\n",
       "    </tr>\n",
       "  </tbody>\n",
       "</table>\n",
       "</div>"
      ],
      "text/plain": [
       "                 Drug     Score GeneName  Similarity\n",
       "348  Prostaglandin A2  0.719048    ABCB1           1"
      ]
     },
     "execution_count": 38,
     "metadata": {},
     "output_type": "execute_result"
    }
   ],
   "source": [
    "#binarize the results with threshold 0.6\n",
    "results['Similarity'] = results['Score'].apply(lambda x: 1 if x>0.6 else 0)\n",
    "display(results['Similarity'].sum())\n",
    "\n",
    "results[results['Similarity']==1]\n"
   ]
  },
  {
   "cell_type": "code",
   "execution_count": 21,
   "metadata": {},
   "outputs": [
    {
     "data": {
      "text/plain": [
       "0.7614379084967321"
      ]
     },
     "execution_count": 21,
     "metadata": {},
     "output_type": "execute_result"
    }
   ],
   "source": [
    "ABCB1['Canonical_SMILES'][0]\n",
    "molCorrect = 'CC(C)C(=O)OC1=C(C=C(C=C1)CO)C(CCN(C(C)C)C(C)C)C2=CC=CC=C2.C(=CC(=O)O)C(=O)O'\n",
    "#save the similarity results versis DrugID to data frame 'results'\n",
    "score = similar([molList['Canonical_SMILES'][0],molCorrect],4)\n",
    "\n",
    "\n",
    "score"
   ]
  }
 ],
 "metadata": {
  "kernelspec": {
   "display_name": "hackathon",
   "language": "python",
   "name": "python3"
  },
  "language_info": {
   "codemirror_mode": {
    "name": "ipython",
    "version": 3
   },
   "file_extension": ".py",
   "mimetype": "text/x-python",
   "name": "python",
   "nbconvert_exporter": "python",
   "pygments_lexer": "ipython3",
   "version": "3.12.0"
  }
 },
 "nbformat": 4,
 "nbformat_minor": 2
}
