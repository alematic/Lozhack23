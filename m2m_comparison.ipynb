{
 "cells": [
  {
   "cell_type": "code",
   "execution_count": 6,
   "metadata": {},
   "outputs": [
    {
     "name": "stdout",
     "output_type": "stream",
     "text": [
      "0.044444444444444446\n"
     ]
    }
   ],
   "source": [
    "#Reference Paper:\n",
    "'''\n",
    "[1]LINGO, an Efficient Holographic Text Based Method To Calculate Biophysical\n",
    "Properties and Intermolecular Similarities\n",
    "David Vidal, Michael Thormann ,and Miquel Pons\n",
    "Journal of Chemical infomation and modeling\n",
    "2005,45(2),pp 386-393\n",
    "http://pubs.acs.org/doi/abs/10.1021/ci0496797\n",
    "[2]Lingos, finite state machines, and fast similarity searching\n",
    "J. Andrew Grant, James A. Haigh, Barry T. Pickup et al.\n",
    "2006,46(5),pp 1912-1918\n",
    "http://pubs.acs.org/doi/abs/10.1021/ci6002152\n",
    "'''\n",
    "\n",
    "def similar(mols,q):\n",
    "    #get lingos:\n",
    "    'q: the length of the lingo'\n",
    "    lingos = []\n",
    "    for mol in mols:\n",
    "        n = len(mol)\n",
    "        for i in range(n-q+1):\n",
    "            if mol[i:i+q] in lingos:\n",
    "                continue\n",
    "            lingos.append(mol[i:i+q])\n",
    "    #calculate Tc\n",
    "    l = len(lingos)\n",
    "    numerator = 0\n",
    "    'cnumerator = 0 '\n",
    "    for lingo in lingos:\n",
    "        NA = sum([mols[0][i:i+q]==lingo for i in range(len(mols[0])-q+1)])\n",
    "        NB = sum([mols[1][i:i+q]==lingo for i in range(len(mols[1])-q+1)])\n",
    "        numerator += 1 - abs(NA-NB) / float(NA+NB)\n",
    "        'cnumerator += min(NA,NB)'\n",
    "    Tc = numerator / float(l) #Reference [1]\n",
    "    'Tab = float(cnumerator) / (len(mols[0])+len(mols[1]) - 2*q +2 -cnumerator)' #Reference[2]\n",
    "    return Tc #Or Tab\n",
    "\n",
    "\n",
    "#Test\n",
    "mols = ['CC(C)C=CCCCCC(=O)NCc1ccc(c(c1)OC)O','COC1=C(C=CC(=C1)C=O)O']\n",
    "\n",
    "print(similar(mols,4))"
   ]
  },
  {
   "cell_type": "code",
   "execution_count": 4,
   "metadata": {},
   "outputs": [
    {
     "data": {
      "text/html": [
       "<div>\n",
       "<style scoped>\n",
       "    .dataframe tbody tr th:only-of-type {\n",
       "        vertical-align: middle;\n",
       "    }\n",
       "\n",
       "    .dataframe tbody tr th {\n",
       "        vertical-align: top;\n",
       "    }\n",
       "\n",
       "    .dataframe thead th {\n",
       "        text-align: right;\n",
       "    }\n",
       "</style>\n",
       "<table border=\"1\" class=\"dataframe\">\n",
       "  <thead>\n",
       "    <tr style=\"text-align: right;\">\n",
       "      <th></th>\n",
       "      <th>DrugID</th>\n",
       "      <th>Drug_Name</th>\n",
       "      <th>Canonical_SMILES</th>\n",
       "      <th>substrate</th>\n",
       "    </tr>\n",
       "  </thead>\n",
       "  <tbody>\n",
       "    <tr>\n",
       "      <th>74</th>\n",
       "      <td>DR00182</td>\n",
       "      <td>Dasatinib</td>\n",
       "      <td>CC1=C(C(=CC=C1)Cl)NC(=O)C2=CN=C(S2)NC3=NC(=NC(...</td>\n",
       "      <td>1</td>\n",
       "    </tr>\n",
       "    <tr>\n",
       "      <th>235</th>\n",
       "      <td>DR00668</td>\n",
       "      <td>Nisoldipine</td>\n",
       "      <td>CC1=C(C(C(=C(N1)C)C(=O)OCC(C)C)C2=CC=CC=C2[N+]...</td>\n",
       "      <td>1</td>\n",
       "    </tr>\n",
       "    <tr>\n",
       "      <th>232</th>\n",
       "      <td>DR00658</td>\n",
       "      <td>Fluphenazine</td>\n",
       "      <td>C1CN(CCN1CCCN2C3=CC=CC=C3SC4=C2C=C(C=C4)C(F)(F...</td>\n",
       "      <td>1</td>\n",
       "    </tr>\n",
       "    <tr>\n",
       "      <th>394</th>\n",
       "      <td>DR01484</td>\n",
       "      <td>Apafant</td>\n",
       "      <td>Cc1nnc2CN=C(c3ccccc3Cl)c4cc(CCC(=O)N5CCOCC5)sc...</td>\n",
       "      <td>1</td>\n",
       "    </tr>\n",
       "    <tr>\n",
       "      <th>89</th>\n",
       "      <td>DR00220</td>\n",
       "      <td>Eliglustat tartrate</td>\n",
       "      <td>CCCCCCCC(=O)NC(CN1CCCC1)C(C2=CC3=C(C=C2)OCCO3)...</td>\n",
       "      <td>1</td>\n",
       "    </tr>\n",
       "  </tbody>\n",
       "</table>\n",
       "</div>"
      ],
      "text/plain": [
       "      DrugID            Drug_Name  \\\n",
       "74   DR00182            Dasatinib   \n",
       "235  DR00668          Nisoldipine   \n",
       "232  DR00658         Fluphenazine   \n",
       "394  DR01484              Apafant   \n",
       "89   DR00220  Eliglustat tartrate   \n",
       "\n",
       "                                      Canonical_SMILES  substrate  \n",
       "74   CC1=C(C(=CC=C1)Cl)NC(=O)C2=CN=C(S2)NC3=NC(=NC(...          1  \n",
       "235  CC1=C(C(C(=C(N1)C)C(=O)OCC(C)C)C2=CC=CC=C2[N+]...          1  \n",
       "232  C1CN(CCN1CCCN2C3=CC=CC=C3SC4=C2C=C(C=C4)C(F)(F...          1  \n",
       "394  Cc1nnc2CN=C(c3ccccc3Cl)c4cc(CCC(=O)N5CCOCC5)sc...          1  \n",
       "89   CCCCCCCC(=O)NC(CN1CCCC1)C(C2=CC3=C(C=C2)OCCO3)...          1  "
      ]
     },
     "execution_count": 4,
     "metadata": {},
     "output_type": "execute_result"
    }
   ],
   "source": [
    "import pandas as pd\n",
    "\n",
    "#read data from csv as 'molList'\n",
    "molList = pd.read_csv('data/ABCB1.csv',index_col=0)\n",
    "molX = pd.read_csv('data/test_drug.txt',index_col=0)\n",
    "#molList.head()\n",
    "molX.head()\n"
   ]
  },
  {
   "cell_type": "code",
   "execution_count": 8,
   "metadata": {},
   "outputs": [],
   "source": [
    "results = pd.DataFrame(columns=['Drug', 'Score','GeneName','DrugX'])"
   ]
  },
  {
   "cell_type": "code",
   "execution_count": 12,
   "metadata": {},
   "outputs": [
    {
     "data": {
      "text/plain": [
       "20"
      ]
     },
     "execution_count": 12,
     "metadata": {},
     "output_type": "execute_result"
    }
   ],
   "source": [
    " \n"
   ]
  },
  {
   "cell_type": "code",
   "execution_count": 14,
   "metadata": {},
   "outputs": [
    {
     "ename": "KeyError",
     "evalue": "'Drug_Name'",
     "output_type": "error",
     "traceback": [
      "\u001b[1;31m---------------------------------------------------------------------------\u001b[0m",
      "\u001b[1;31mKeyError\u001b[0m                                  Traceback (most recent call last)",
      "File \u001b[1;32mc:\\Users\\morri\\anaconda3\\envs\\hackathon\\Lib\\site-packages\\pandas\\core\\indexes\\base.py:3790\u001b[0m, in \u001b[0;36mIndex.get_loc\u001b[1;34m(self, key)\u001b[0m\n\u001b[0;32m   3789\u001b[0m \u001b[39mtry\u001b[39;00m:\n\u001b[1;32m-> 3790\u001b[0m     \u001b[39mreturn\u001b[39;00m \u001b[39mself\u001b[39;49m\u001b[39m.\u001b[39;49m_engine\u001b[39m.\u001b[39;49mget_loc(casted_key)\n\u001b[0;32m   3791\u001b[0m \u001b[39mexcept\u001b[39;00m \u001b[39mKeyError\u001b[39;00m \u001b[39mas\u001b[39;00m err:\n",
      "File \u001b[1;32mindex.pyx:152\u001b[0m, in \u001b[0;36mpandas._libs.index.IndexEngine.get_loc\u001b[1;34m()\u001b[0m\n",
      "File \u001b[1;32mindex.pyx:160\u001b[0m, in \u001b[0;36mpandas._libs.index.IndexEngine.get_loc\u001b[1;34m()\u001b[0m\n",
      "File \u001b[1;32mpandas\\_libs\\index_class_helper.pxi:70\u001b[0m, in \u001b[0;36mpandas._libs.index.Int64Engine._check_type\u001b[1;34m()\u001b[0m\n",
      "\u001b[1;31mKeyError\u001b[0m: 'Drug_Name'",
      "\nThe above exception was the direct cause of the following exception:\n",
      "\u001b[1;31mKeyError\u001b[0m                                  Traceback (most recent call last)",
      "\u001b[1;32mc:\\Users\\morri\\git\\Lozhack23\\m2m_comparison.ipynb Cell 5\u001b[0m line \u001b[0;36m4\n\u001b[0;32m      <a href='vscode-notebook-cell:/c%3A/Users/morri/git/Lozhack23/m2m_comparison.ipynb#W5sZmlsZQ%3D%3D?line=1'>2</a>\u001b[0m \u001b[39mfor\u001b[39;00m i \u001b[39min\u001b[39;00m \u001b[39mrange\u001b[39m(\u001b[39m0\u001b[39m,\u001b[39mlen\u001b[39m(molList[\u001b[39m'\u001b[39m\u001b[39mCanonical_SMILES\u001b[39m\u001b[39m'\u001b[39m])):\n\u001b[0;32m      <a href='vscode-notebook-cell:/c%3A/Users/morri/git/Lozhack23/m2m_comparison.ipynb#W5sZmlsZQ%3D%3D?line=2'>3</a>\u001b[0m     \u001b[39mfor\u001b[39;00m j \u001b[39min\u001b[39;00m \u001b[39mrange\u001b[39m(\u001b[39m0\u001b[39m, \u001b[39mlen\u001b[39m(molX[\u001b[39m'\u001b[39m\u001b[39mCanonical_SMILES\u001b[39m\u001b[39m'\u001b[39m])):\n\u001b[1;32m----> <a href='vscode-notebook-cell:/c%3A/Users/morri/git/Lozhack23/m2m_comparison.ipynb#W5sZmlsZQ%3D%3D?line=3'>4</a>\u001b[0m         results\u001b[39m.\u001b[39mloc[(i\u001b[39m-\u001b[39m\u001b[39m1\u001b[39m)\u001b[39m*\u001b[39m\u001b[39mlen\u001b[39m(molX\u001b[39m.\u001b[39mloc[\u001b[39m'\u001b[39m\u001b[39mCanonical_SMILES\u001b[39m\u001b[39m'\u001b[39m])\u001b[39m+\u001b[39mj] \u001b[39m=\u001b[39m [molList\u001b[39m.\u001b[39;49mloc[\u001b[39m'\u001b[39;49m\u001b[39mDrug_Name\u001b[39;49m\u001b[39m'\u001b[39;49m][i], similar([molX\u001b[39m.\u001b[39mloc[\u001b[39m'\u001b[39m\u001b[39mCanonical_SMILES\u001b[39m\u001b[39m'\u001b[39m][j],molList\u001b[39m.\u001b[39mloc[\u001b[39m'\u001b[39m\u001b[39mCanonical_SMILES\u001b[39m\u001b[39m'\u001b[39m][i]],\u001b[39m4\u001b[39m),molList\u001b[39m.\u001b[39mloc[\u001b[39m'\u001b[39m\u001b[39mGene_name\u001b[39m\u001b[39m'\u001b[39m][i],molX\u001b[39m.\u001b[39mloc[\u001b[39m'\u001b[39m\u001b[39mDrug_Name\u001b[39m\u001b[39m'\u001b[39m][j]] \n\u001b[0;32m      <a href='vscode-notebook-cell:/c%3A/Users/morri/git/Lozhack23/m2m_comparison.ipynb#W5sZmlsZQ%3D%3D?line=6'>7</a>\u001b[0m \u001b[39m#results.head()\u001b[39;00m\n\u001b[0;32m      <a href='vscode-notebook-cell:/c%3A/Users/morri/git/Lozhack23/m2m_comparison.ipynb#W5sZmlsZQ%3D%3D?line=7'>8</a>\u001b[0m display(results)\n",
      "File \u001b[1;32mc:\\Users\\morri\\anaconda3\\envs\\hackathon\\Lib\\site-packages\\pandas\\core\\indexing.py:1153\u001b[0m, in \u001b[0;36m_LocationIndexer.__getitem__\u001b[1;34m(self, key)\u001b[0m\n\u001b[0;32m   1150\u001b[0m axis \u001b[39m=\u001b[39m \u001b[39mself\u001b[39m\u001b[39m.\u001b[39maxis \u001b[39mor\u001b[39;00m \u001b[39m0\u001b[39m\n\u001b[0;32m   1152\u001b[0m maybe_callable \u001b[39m=\u001b[39m com\u001b[39m.\u001b[39mapply_if_callable(key, \u001b[39mself\u001b[39m\u001b[39m.\u001b[39mobj)\n\u001b[1;32m-> 1153\u001b[0m \u001b[39mreturn\u001b[39;00m \u001b[39mself\u001b[39;49m\u001b[39m.\u001b[39;49m_getitem_axis(maybe_callable, axis\u001b[39m=\u001b[39;49maxis)\n",
      "File \u001b[1;32mc:\\Users\\morri\\anaconda3\\envs\\hackathon\\Lib\\site-packages\\pandas\\core\\indexing.py:1393\u001b[0m, in \u001b[0;36m_LocIndexer._getitem_axis\u001b[1;34m(self, key, axis)\u001b[0m\n\u001b[0;32m   1391\u001b[0m \u001b[39m# fall thru to straight lookup\u001b[39;00m\n\u001b[0;32m   1392\u001b[0m \u001b[39mself\u001b[39m\u001b[39m.\u001b[39m_validate_key(key, axis)\n\u001b[1;32m-> 1393\u001b[0m \u001b[39mreturn\u001b[39;00m \u001b[39mself\u001b[39;49m\u001b[39m.\u001b[39;49m_get_label(key, axis\u001b[39m=\u001b[39;49maxis)\n",
      "File \u001b[1;32mc:\\Users\\morri\\anaconda3\\envs\\hackathon\\Lib\\site-packages\\pandas\\core\\indexing.py:1343\u001b[0m, in \u001b[0;36m_LocIndexer._get_label\u001b[1;34m(self, label, axis)\u001b[0m\n\u001b[0;32m   1341\u001b[0m \u001b[39mdef\u001b[39;00m \u001b[39m_get_label\u001b[39m(\u001b[39mself\u001b[39m, label, axis: AxisInt):\n\u001b[0;32m   1342\u001b[0m     \u001b[39m# GH#5567 this will fail if the label is not present in the axis.\u001b[39;00m\n\u001b[1;32m-> 1343\u001b[0m     \u001b[39mreturn\u001b[39;00m \u001b[39mself\u001b[39;49m\u001b[39m.\u001b[39;49mobj\u001b[39m.\u001b[39;49mxs(label, axis\u001b[39m=\u001b[39;49maxis)\n",
      "File \u001b[1;32mc:\\Users\\morri\\anaconda3\\envs\\hackathon\\Lib\\site-packages\\pandas\\core\\generic.py:4236\u001b[0m, in \u001b[0;36mNDFrame.xs\u001b[1;34m(self, key, axis, level, drop_level)\u001b[0m\n\u001b[0;32m   4234\u001b[0m             new_index \u001b[39m=\u001b[39m index[loc]\n\u001b[0;32m   4235\u001b[0m \u001b[39melse\u001b[39;00m:\n\u001b[1;32m-> 4236\u001b[0m     loc \u001b[39m=\u001b[39m index\u001b[39m.\u001b[39;49mget_loc(key)\n\u001b[0;32m   4238\u001b[0m     \u001b[39mif\u001b[39;00m \u001b[39misinstance\u001b[39m(loc, np\u001b[39m.\u001b[39mndarray):\n\u001b[0;32m   4239\u001b[0m         \u001b[39mif\u001b[39;00m loc\u001b[39m.\u001b[39mdtype \u001b[39m==\u001b[39m np\u001b[39m.\u001b[39mbool_:\n",
      "File \u001b[1;32mc:\\Users\\morri\\anaconda3\\envs\\hackathon\\Lib\\site-packages\\pandas\\core\\indexes\\base.py:3797\u001b[0m, in \u001b[0;36mIndex.get_loc\u001b[1;34m(self, key)\u001b[0m\n\u001b[0;32m   3792\u001b[0m     \u001b[39mif\u001b[39;00m \u001b[39misinstance\u001b[39m(casted_key, \u001b[39mslice\u001b[39m) \u001b[39mor\u001b[39;00m (\n\u001b[0;32m   3793\u001b[0m         \u001b[39misinstance\u001b[39m(casted_key, abc\u001b[39m.\u001b[39mIterable)\n\u001b[0;32m   3794\u001b[0m         \u001b[39mand\u001b[39;00m \u001b[39many\u001b[39m(\u001b[39misinstance\u001b[39m(x, \u001b[39mslice\u001b[39m) \u001b[39mfor\u001b[39;00m x \u001b[39min\u001b[39;00m casted_key)\n\u001b[0;32m   3795\u001b[0m     ):\n\u001b[0;32m   3796\u001b[0m         \u001b[39mraise\u001b[39;00m InvalidIndexError(key)\n\u001b[1;32m-> 3797\u001b[0m     \u001b[39mraise\u001b[39;00m \u001b[39mKeyError\u001b[39;00m(key) \u001b[39mfrom\u001b[39;00m \u001b[39merr\u001b[39;00m\n\u001b[0;32m   3798\u001b[0m \u001b[39mexcept\u001b[39;00m \u001b[39mTypeError\u001b[39;00m:\n\u001b[0;32m   3799\u001b[0m     \u001b[39m# If we have a listlike key, _check_indexing_error will raise\u001b[39;00m\n\u001b[0;32m   3800\u001b[0m     \u001b[39m#  InvalidIndexError. Otherwise we fall through and re-raise\u001b[39;00m\n\u001b[0;32m   3801\u001b[0m     \u001b[39m#  the TypeError.\u001b[39;00m\n\u001b[0;32m   3802\u001b[0m     \u001b[39mself\u001b[39m\u001b[39m.\u001b[39m_check_indexing_error(key)\n",
      "\u001b[1;31mKeyError\u001b[0m: 'Drug_Name'"
     ]
    }
   ],
   "source": [
    "#create for loop to calculate the similarity between molX and each mol in ABCB1 and store the results in the array 'results'\n",
    "for i in range(0,len(molList['Canonical_SMILES'])):\n",
    "    for j in range(0, len(molX['Canonical_SMILES'])):\n",
    "        results.loc[(i-1)*len(molX.loc['Canonical_SMILES'])+j] = [molList.loc['Drug_Name'][i], similar([molX.loc['Canonical_SMILES'][j],molList.loc['Canonical_SMILES'][i]],4),molList.loc['Gene_name'][i],molX.loc['Drug_Name'][j]] \n",
    "\n",
    "\n",
    "#results.head()\n",
    "display(results)"
   ]
  },
  {
   "cell_type": "code",
   "execution_count": 10,
   "metadata": {},
   "outputs": [
    {
     "data": {
      "text/plain": [
       "1"
      ]
     },
     "metadata": {},
     "output_type": "display_data"
    },
    {
     "data": {
      "text/html": [
       "<div>\n",
       "<style scoped>\n",
       "    .dataframe tbody tr th:only-of-type {\n",
       "        vertical-align: middle;\n",
       "    }\n",
       "\n",
       "    .dataframe tbody tr th {\n",
       "        vertical-align: top;\n",
       "    }\n",
       "\n",
       "    .dataframe thead th {\n",
       "        text-align: right;\n",
       "    }\n",
       "</style>\n",
       "<table border=\"1\" class=\"dataframe\">\n",
       "  <thead>\n",
       "    <tr style=\"text-align: right;\">\n",
       "      <th></th>\n",
       "      <th>Drug</th>\n",
       "      <th>Score</th>\n",
       "      <th>GeneName</th>\n",
       "      <th>Similarity</th>\n",
       "    </tr>\n",
       "  </thead>\n",
       "  <tbody>\n",
       "    <tr>\n",
       "      <th>348</th>\n",
       "      <td>Prostaglandin A2</td>\n",
       "      <td>0.719048</td>\n",
       "      <td>ABCB1</td>\n",
       "      <td>1</td>\n",
       "    </tr>\n",
       "  </tbody>\n",
       "</table>\n",
       "</div>"
      ],
      "text/plain": [
       "                 Drug     Score GeneName  Similarity\n",
       "348  Prostaglandin A2  0.719048    ABCB1           1"
      ]
     },
     "execution_count": 10,
     "metadata": {},
     "output_type": "execute_result"
    }
   ],
   "source": [
    "#binarize the results with threshold 0.6\n",
    "results['Similarity'] = results['Score'].apply(lambda x: 1 if x>0.6 else 0)\n",
    "display(results['Similarity'].sum())\n",
    "\n",
    "results[results['Similarity']==1]\n"
   ]
  },
  {
   "cell_type": "code",
   "execution_count": 12,
   "metadata": {},
   "outputs": [
    {
     "data": {
      "text/plain": [
       "0.7614379084967321"
      ]
     },
     "execution_count": 12,
     "metadata": {},
     "output_type": "execute_result"
    }
   ],
   "source": [
    "molList['Canonical_SMILES'][0]\n",
    "molCorrect = 'CC(C)C(=O)OC1=C(C=C(C=C1)CO)C(CCN(C(C)C)C(C)C)C2=CC=CC=C2.C(=CC(=O)O)C(=O)O'\n",
    "#save the similarity results versis DrugID to data frame 'results'\n",
    "score = similar([molList['Canonical_SMILES'][0],molCorrect],4)\n",
    "\n",
    "\n",
    "score"
   ]
  }
 ],
 "metadata": {
  "kernelspec": {
   "display_name": "hackathon",
   "language": "python",
   "name": "python3"
  },
  "language_info": {
   "codemirror_mode": {
    "name": "ipython",
    "version": 3
   },
   "file_extension": ".py",
   "mimetype": "text/x-python",
   "name": "python",
   "nbconvert_exporter": "python",
   "pygments_lexer": "ipython3",
   "version": "3.12.0"
  }
 },
 "nbformat": 4,
 "nbformat_minor": 2
}
